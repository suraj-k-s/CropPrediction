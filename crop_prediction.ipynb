{
 "cells": [
  {
   "cell_type": "code",
   "execution_count": 4,
   "metadata": {},
   "outputs": [],
   "source": [
    "import joblib\n",
    "\n",
    "# Load the saved model and scaler\n",
    "rf = joblib.load('random_forest_model.pkl')\n",
    "sc = joblib.load('standard_scaler.pkl')\n",
    "encoder = joblib.load('label_encodings.pkl')"
   ]
  },
  {
   "cell_type": "code",
   "execution_count": 8,
   "metadata": {},
   "outputs": [
    {
     "name": "stdout",
     "output_type": "stream",
     "text": [
      "Predicted label: [2]\n",
      "Predicted crop: ['blackgram']\n"
     ]
    },
    {
     "name": "stderr",
     "output_type": "stream",
     "text": [
      "c:\\Users\\Anandu Aji\\AppData\\Local\\Programs\\Python\\Python311\\Lib\\site-packages\\sklearn\\base.py:493: UserWarning: X does not have valid feature names, but StandardScaler was fitted with feature names\n",
      "  warnings.warn(\n"
     ]
    }
   ],
   "source": [
    "# Reshape to a 2D array with one row\n",
    "single_instance_features = [[56, 79, 15, 29.484400, 63.199153, 7.454532, 71.890907]]\n",
    "\n",
    "# Use the StandardScaler fitted to the training data to transform the single instance\n",
    "single_instance_scaled = sc.transform(single_instance_features)\n",
    "# print(single_instance_scaled)\n",
    "\n",
    "# Use the Random Forest classifier (rf) to predict the label for the scaled single instance\n",
    "prediction = rf.predict(single_instance_scaled)\n",
    "\n",
    "# Now, 'prediction' contains the predicted label for the single instance\n",
    "print(\"Predicted label:\", prediction)\n",
    "\n",
    "# Map the predicted label back to the original crop name\n",
    "predicted_crop_name = encoder.inverse_transform(prediction)\n",
    "\n",
    "# Now, 'predicted_crop_name' contains the actual name of the predicted crop\n",
    "print(\"Predicted crop:\", predicted_crop_name)\n"
   ]
  },
  {
   "cell_type": "code",
   "execution_count": null,
   "metadata": {},
   "outputs": [],
   "source": []
  }
 ],
 "metadata": {
  "kernelspec": {
   "display_name": "Python 3",
   "language": "python",
   "name": "python3"
  },
  "language_info": {
   "codemirror_mode": {
    "name": "ipython",
    "version": 3
   },
   "file_extension": ".py",
   "mimetype": "text/x-python",
   "name": "python",
   "nbconvert_exporter": "python",
   "pygments_lexer": "ipython3",
   "version": "3.11.8"
  }
 },
 "nbformat": 4,
 "nbformat_minor": 2
}
